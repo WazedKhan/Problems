{
 "cells": [
  {
   "cell_type": "code",
   "execution_count": null,
   "id": "a1e81b05",
   "metadata": {},
   "outputs": [],
   "source": [
    "nums = [1, 2, 3, 9]\n",
    "if nums[-1] != 9:\n",
    "    print(nums[-1] + 1)"
   ]
  }
 ],
 "metadata": {
  "kernelspec": {
   "display_name": "env",
   "language": "python",
   "name": "python3"
  },
  "language_info": {
   "codemirror_mode": {
    "name": "ipython",
    "version": 3
   },
   "file_extension": ".py",
   "mimetype": "text/x-python",
   "name": "python",
   "nbconvert_exporter": "python",
   "pygments_lexer": "ipython3",
   "version": "3.12.3"
  }
 },
 "nbformat": 4,
 "nbformat_minor": 5
}
