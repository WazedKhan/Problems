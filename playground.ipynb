{
 "cells": [
  {
   "cell_type": "code",
   "execution_count": null,
   "id": "a1e81b05",
   "metadata": {},
   "outputs": [],
   "source": [
    "nums = [1, 2, 3, 9]\n",
    "if nums[-1] != 9:\n",
    "    print(nums[-1] + 1)"
   ]
  },
  {
   "cell_type": "code",
   "execution_count": 16,
   "id": "9d58337d",
   "metadata": {},
   "outputs": [
    {
     "name": "stdout",
     "output_type": "stream",
     "text": [
      "results: [None, None, None, None, None, None]\n"
     ]
    }
   ],
   "source": [
    "from LeetCode.medium.simple_bank_system_2043 import Bank\n",
    "\n",
    "# # Initialize the bank with balances\n",
    "# bank = Bank([10, 100, 20, 50, 30])\n",
    "\n",
    "# # Perform operations step by step\n",
    "# print(bank.withdraw(3, 10))  # True\n",
    "# print(bank.transfer(5, 1, 20))  # True\n",
    "# print(bank.deposit(5, 20))  # True\n",
    "# print(bank.transfer(3, 4, 15))  # False (insufficient funds)\n",
    "# print(bank.withdraw(10, 50))  # False (invalid account)\n",
    "\n",
    "bank = None\n",
    "results = []\n",
    "operations = [\"Bank\", \"withdraw\", \"transfer\", \"deposit\", \"transfer\", \"withdraw\"]\n",
    "inputs = [\n",
    "    [[10, 100, 20, 50, 30]],\n",
    "    [3, 10],\n",
    "    [5, 1, 20],\n",
    "    [5, 20],\n",
    "    [3, 4, 15],\n",
    "    [10, 50],\n",
    "]\n",
    "\n",
    "for op, inp in zip(operations, inputs):\n",
    "    if op == \"Bank\":\n",
    "        bank = Bank(*inp)\n",
    "        results.append(None)\n",
    "    elif op == \"withdraw\":\n",
    "        results.append(bank.withdraw(*inp))\n",
    "    elif op == \"deposit\":\n",
    "        results.append(bank.deposit(*inp))\n",
    "    elif op == \"transfer\":\n",
    "        results.append(bank.transfer(*inp))\n",
    "\n",
    "print(\"results:\", results)"
   ]
  }
 ],
 "metadata": {
  "kernelspec": {
   "display_name": "env",
   "language": "python",
   "name": "python3"
  },
  "language_info": {
   "codemirror_mode": {
    "name": "ipython",
    "version": 3
   },
   "file_extension": ".py",
   "mimetype": "text/x-python",
   "name": "python",
   "nbconvert_exporter": "python",
   "pygments_lexer": "ipython3",
   "version": "3.12.3"
  }
 },
 "nbformat": 4,
 "nbformat_minor": 5
}
